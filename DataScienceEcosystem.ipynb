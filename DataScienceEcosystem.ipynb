{
 "cells": [
  {
   "cell_type": "markdown",
   "id": "addf7d7b-e057-4500-9d68-f93c670431b4",
   "metadata": {},
   "source": [
    "# Data Science Tools and Ecosystem"
   ]
  },
  {
   "cell_type": "markdown",
   "id": "c8b6bbd3-0fa9-41f9-b432-25fd98e10bd5",
   "metadata": {},
   "source": [
    "In this notebook, Data Science Tools and Ecosystem are summarized.\n",
    "\n",
    "__Objectives:__\n",
    "- Using Jupyter notebook\n",
    "- Learn to use Markup cells effectively\n",
    "- Write basic Arithmatic expressions in python"
   ]
  },
  {
   "cell_type": "markdown",
   "id": "4883ee3a-ef64-4975-b790-df40ef8880da",
   "metadata": {},
   "source": [
    "Some of the popular languages that Data Scientists use are:\n",
    "1. Python\n",
    "2. R\n",
    "3. Scala\n"
   ]
  },
  {
   "cell_type": "markdown",
   "id": "f8ee2588-1093-4a9b-9c27-ff2bb5e21a42",
   "metadata": {},
   "source": [
    "Some of the commonly used libraries used by Data Scientists include:\n",
    "1. Numpy\n",
    "2. Matplotlib\n",
    "3. SciPy\n",
    "4. Pandas\n",
    "5. Scikit-learn\n"
   ]
  },
  {
   "cell_type": "markdown",
   "id": "dcf976c9-a5e6-4bda-b300-98fee91e17b3",
   "metadata": {},
   "source": [
    "| Datascience Tools |\n",
    "|:------------------|\n",
    "|R Studio|\n",
    "|Jupiter Notebook|\n",
    "| Anaconda |"
   ]
  },
  {
   "cell_type": "markdown",
   "id": "a2bb738f-9a0e-4ab3-8bb4-0d4fd475494c",
   "metadata": {},
   "source": [
    "### Below are a few examples of evaluating arithmetic expressions in Python"
   ]
  },
  {
   "cell_type": "code",
   "execution_count": 5,
   "id": "84c19594-b60d-4a70-91b5-aa3741e8d01a",
   "metadata": {},
   "outputs": [
    {
     "data": {
      "text/plain": [
       "17"
      ]
     },
     "execution_count": 5,
     "metadata": {},
     "output_type": "execute_result"
    }
   ],
   "source": [
    "# This a simple arithmetic expression to mutiply then add integers\n",
    "(3*4)+5"
   ]
  },
  {
   "cell_type": "code",
   "execution_count": 6,
   "id": "91ca6a13-c4b2-495f-86a9-b0f2885c3460",
   "metadata": {},
   "outputs": [
    {
     "data": {
      "text/plain": [
       "3.3333333333333335"
      ]
     },
     "execution_count": 6,
     "metadata": {},
     "output_type": "execute_result"
    }
   ],
   "source": [
    "# This will convert 200 minutes to hours by diving by 60\n",
    "200/60"
   ]
  },
  {
   "cell_type": "markdown",
   "id": "1910688a-7e5f-45f8-87f4-0a0bb68cc475",
   "metadata": {},
   "source": [
    "## Author\n",
    "Manjunatha Gowdar"
   ]
  }
 ],
 "metadata": {
  "kernelspec": {
   "display_name": "Python 3 (ipykernel)",
   "language": "python",
   "name": "python3"
  },
  "language_info": {
   "codemirror_mode": {
    "name": "ipython",
    "version": 3
   },
   "file_extension": ".py",
   "mimetype": "text/x-python",
   "name": "python",
   "nbconvert_exporter": "python",
   "pygments_lexer": "ipython3",
   "version": "3.11.4"
  }
 },
 "nbformat": 4,
 "nbformat_minor": 5
}
